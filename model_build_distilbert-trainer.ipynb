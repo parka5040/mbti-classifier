{
 "cells": [
  {
   "cell_type": "code",
   "execution_count": 1,
   "id": "34afacbb",
   "metadata": {},
   "outputs": [],
   "source": [
    "from transformers import AutoTokenizer\n",
    "from transformers import DataCollatorWithPadding\n",
    "from transformers import AutoModelForSequenceClassification\n",
    "from transformers import TrainingArguments, Trainer\n",
    "from sklearn.model_selection import train_test_split\n",
    "import pandas as pd\n",
    "import evaluate\n",
    "import datasets\n",
    "import numpy as np\n",
    "import math\n",
    "import seaborn as sns\n",
    "import swifter\n",
    "import matplotlib.pyplot as plt \n",
    "from sklearn import preprocessing"
   ]
  },
  {
   "cell_type": "code",
   "execution_count": 2,
   "id": "3e9d1598",
   "metadata": {},
   "outputs": [
    {
     "data": {
      "application/vnd.jupyter.widget-view+json": {
       "model_id": "990bdb2d44b64c6490128847d7fc5aad",
       "version_major": 2,
       "version_minor": 0
      },
      "text/plain": [
       "Pandas Apply:   0%|          | 0/802752 [00:00<?, ?it/s]"
      ]
     },
     "metadata": {},
     "output_type": "display_data"
    }
   ],
   "source": [
    "# import data\n",
    "dataPath = r'C:\\Users\\17656\\Documents\\Professional Development\\Professional Projects\\MBTI NLP\\Scripts\\\\'\n",
    "\n",
    "trainingData = pd.read_csv(dataPath + \"downsampledSecondClean.csv\")\n",
    "trainingData[\"cleaned\"] = trainingData[\"cleaned\"].swifter.apply(lambda x: str(x))\n",
    "mbtiValues = [\"ESTJ\", \"ESTP\", \"ESFP\", \"ESFJ\", \"ISTJ\", \"ISTP\", \"ISFP\", \"ISFJ\", \"INTJ\", \"INTP\", \"INFP\",\n",
    "              \"INFJ\", \"ENTJ\", \"ENTP\", \"ENFP\", \"ENFJ\"]"
   ]
  },
  {
   "cell_type": "markdown",
   "id": "1db1473e",
   "metadata": {},
   "source": [
    "Let's preprocess the data to get it ready for application into a dataset"
   ]
  },
  {
   "cell_type": "code",
   "execution_count": 3,
   "id": "cab884dc",
   "metadata": {},
   "outputs": [
    {
     "name": "stdout",
     "output_type": "stream",
     "text": [
      "label\n",
      "INFJ    40138\n",
      "INFP    40138\n",
      "ENFJ    40138\n",
      "INTJ    40138\n",
      "ESTP    40138\n",
      "ESFJ    40138\n",
      "INTP    40138\n",
      "ESFP    40138\n",
      "ENTP    40138\n",
      "ISFJ    40137\n",
      "ISTP    40137\n",
      "ISTJ    40137\n",
      "ENTJ    40137\n",
      "ESTJ    40137\n",
      "ISFP    40137\n",
      "ENFP    40137\n",
      "Name: count, dtype: int64\n",
      "label\n",
      "ISTP    10035\n",
      "ENTJ    10035\n",
      "ISTJ    10035\n",
      "ISFP    10035\n",
      "ESTJ    10035\n",
      "ISFJ    10035\n",
      "ENFP    10035\n",
      "INTJ    10034\n",
      "ESTP    10034\n",
      "ESFJ    10034\n",
      "ESFP    10034\n",
      "INFJ    10034\n",
      "INFP    10034\n",
      "ENFJ    10034\n",
      "ENTP    10034\n",
      "INTP    10034\n",
      "Name: count, dtype: int64\n"
     ]
    }
   ],
   "source": [
    "trainingData = trainingData.rename(columns={\"flair_text\":\"label\", \"cleaned\":\"text\"})\n",
    "trainingData = trainingData.drop(columns=[\"body\", \"length\", \"labels\"])\n",
    "train, test = train_test_split(trainingData, test_size = 0.20, random_state=123, stratify=trainingData[\"label\"])\n",
    "print(train[\"label\"].value_counts())\n",
    "print(test[\"label\"].value_counts())"
   ]
  },
  {
   "cell_type": "code",
   "execution_count": 4,
   "id": "03388bbc",
   "metadata": {},
   "outputs": [
    {
     "name": "stdout",
     "output_type": "stream",
     "text": [
      "Training Set Size: 642201\n",
      "Test Set Size: 160551\n"
     ]
    }
   ],
   "source": [
    "featureVals = datasets.Features({\"label\":datasets.ClassLabel(names=mbtiValues), \"text\":datasets.Value(\"string\")})\n",
    "\n",
    "trainDataset = datasets.Dataset.from_dict(train, split=\"train\", features = featureVals)\n",
    "testDataset = datasets.Dataset.from_dict(test, split=\"test\", features = featureVals)\n",
    "print(\"Training Set Size: %d\" %train.shape[0])\n",
    "print(\"Test Set Size: %d\" %test.shape[0])\n",
    "\n",
    "modelDataset = datasets.DatasetDict({\"train\":trainDataset, \"test\":testDataset})"
   ]
  },
  {
   "cell_type": "markdown",
   "id": "57d902f9",
   "metadata": {},
   "source": [
    "Now let's get the tokenizer ready for mapping to the data. Let's check text length so we can normalize a bit more"
   ]
  },
  {
   "cell_type": "code",
   "execution_count": 5,
   "id": "5b83322c",
   "metadata": {},
   "outputs": [],
   "source": [
    "tokenizer = AutoTokenizer.from_pretrained(\"distilbert-base-uncased\")"
   ]
  },
  {
   "cell_type": "code",
   "execution_count": 6,
   "id": "4f63b210",
   "metadata": {},
   "outputs": [],
   "source": [
    "token_lens = [len(i.split()) for i in train[\"text\"].sample(n=1000)]"
   ]
  },
  {
   "cell_type": "code",
   "execution_count": 7,
   "id": "84ec821b",
   "metadata": {},
   "outputs": [
    {
     "name": "stderr",
     "output_type": "stream",
     "text": [
      "C:\\Users\\17656\\.conda\\envs\\mleng\\Lib\\site-packages\\seaborn\\axisgrid.py:118: UserWarning: The figure layout has changed to tight\n",
      "  self._figure.tight_layout(*args, **kwargs)\n"
     ]
    },
    {
     "data": {
      "image/png": "[encoded data removed]",
      "text/plain": [
       "<Figure size 500x500 with 1 Axes>"
      ]
     },
     "metadata": {},
     "output_type": "display_data"
    }
   ],
   "source": [
    "sns.displot(token_lens)\n",
    "plt.xlim([0, 200])\n",
    "plt.xlabel('Token count')\n",
    "plt.show()"
   ]
  },
  {
   "cell_type": "markdown",
   "id": "f6adc3ee",
   "metadata": {},
   "source": [
    "Looks like ~175 is a good max length"
   ]
  },
  {
   "cell_type": "code",
   "execution_count": 8,
   "id": "cc7ff46a",
   "metadata": {},
   "outputs": [],
   "source": [
    "def tokenizeFunction(examples):\n",
    "    encoding = tokenizer(\n",
    "        examples[\"text\"], \n",
    "        add_special_tokens = True,\n",
    "        truncation=True, \n",
    "        max_length = 175, \n",
    "        pad_to_max_length = True)\n",
    "    return encoding"
   ]
  },
  {
   "cell_type": "code",
   "execution_count": 9,
   "id": "43cf0bbe",
   "metadata": {},
   "outputs": [
    {
     "data": {
      "application/vnd.jupyter.widget-view+json": {
       "model_id": "",
       "version_major": 2,
       "version_minor": 0
      },
      "text/plain": [
       "Map:   0%|          | 0/642201 [00:00<?, ? examples/s]"
      ]
     },
     "metadata": {},
     "output_type": "display_data"
    },
    {
     "data": {
      "application/vnd.jupyter.widget-view+json": {
       "model_id": "",
       "version_major": 2,
       "version_minor": 0
      },
      "text/plain": [
       "Map:   0%|          | 0/160551 [00:00<?, ? examples/s]"
      ]
     },
     "metadata": {},
     "output_type": "display_data"
    }
   ],
   "source": [
    "encodedDataset = modelDataset.map(tokenizeFunction)"
   ]
  },
  {
   "cell_type": "markdown",
   "id": "388b71c9",
   "metadata": {},
   "source": [
    "Now let's initialize distilbert"
   ]
  },
  {
   "cell_type": "code",
   "execution_count": 18,
   "id": "5713118a",
   "metadata": {},
   "outputs": [
    {
     "name": "stdout",
     "output_type": "stream",
     "text": [
      "{0: 'ESTJ', 1: 'ESTP', 2: 'ESFP', 3: 'ESFJ', 4: 'ISTJ', 5: 'ISTP', 6: 'ISFP', 7: 'ISFJ', 8: 'INTJ', 9: 'INTP', 10: 'INFP', 11: 'INFJ', 12: 'ENTJ', 13: 'ENTP', 14: 'ENFP', 15: 'ENFJ'}\n",
      "{'ESTJ': 0, 'ESTP': 1, 'ESFP': 2, 'ESFJ': 3, 'ISTJ': 4, 'ISTP': 5, 'ISFP': 6, 'ISFJ': 7, 'INTJ': 8, 'INTP': 9, 'INFP': 10, 'INFJ': 11, 'ENTJ': 12, 'ENTP': 13, 'ENFP': 14, 'ENFJ': 15}\n"
     ]
    },
    {
     "name": "stderr",
     "output_type": "stream",
     "text": [
      "Some weights of DistilBertForSequenceClassification were not initialized from the model checkpoint at distilbert-base-uncased and are newly initialized: ['pre_classifier.bias', 'pre_classifier.weight', 'classifier.weight', 'classifier.bias']\n",
      "You should probably TRAIN this model on a down-stream task to be able to use it for predictions and inference.\n"
     ]
    }
   ],
   "source": [
    "metricToUse = evaluate.load(\"accuracy\")\n",
    "\n",
    "mbtiList = list(range(0, 16))\n",
    "\n",
    "id2label = dict(zip(mbtiList, mbtiValues))\n",
    "label2id = dict(zip(mbtiValues, mbtiList))\n",
    "\n",
    "print(id2label)\n",
    "print(label2id)\n",
    "\n",
    "def metricCompute(evalPred):\n",
    "    predictions, labels = evalPred\n",
    "    predictions = np.argmax(predictions, axis=1)\n",
    "    return metricToUse.compute(predictions = predictions, references = labels)\n",
    "\n",
    "model = AutoModelForSequenceClassification.from_pretrained(\"distilbert-base-uncased\", num_labels=16, id2label=id2label, \n",
    "                                                           label2id=label2id)"
   ]
  },
  {
   "cell_type": "markdown",
   "id": "921a2f36",
   "metadata": {},
   "source": [
    "Create arguments"
   ]
  },
  {
   "cell_type": "code",
   "execution_count": 19,
   "id": "fd87dcda",
   "metadata": {},
   "outputs": [],
   "source": [
    "training_args = TrainingArguments(\n",
    "    output_dir = \"fifthModel_pytorch_imbalancedClass_mbti_10-9-2023\",\n",
    "    learning_rate = 5e-6,\n",
    "    per_device_train_batch_size=16,\n",
    "    per_device_eval_batch_size=16,\n",
    "    num_train_epochs=9,\n",
    "    evaluation_strategy=\"epoch\",\n",
    "    save_strategy=\"epoch\",\n",
    "    load_best_model_at_end=True,\n",
    "    fp16 = True\n",
    ")\n",
    "\n",
    "trainer = Trainer(\n",
    "    model=model,\n",
    "    args=training_args,\n",
    "    train_dataset=encodedDataset[\"train\"],\n",
    "    eval_dataset=encodedDataset[\"test\"],\n",
    "    tokenizer=tokenizer,\n",
    "    compute_metrics=metricCompute\n",
    ")"
   ]
  },
  {
   "cell_type": "code",
   "execution_count": null,
   "id": "6e91faad",
   "metadata": {},
   "outputs": [],
   "source": []
  },
  {
   "cell_type": "code",
   "execution_count": 20,
   "id": "9567f546",
   "metadata": {},
   "outputs": [
    {
     "data": {
      "text/html": [
       "\n",
       "    <div>\n",
       "      \n",
       "      <progress value='361242' max='361242' style='width:300px; height:20px; vertical-align: middle;'></progress>\n",
       "      [361242/361242 9:03:51, Epoch 9/9]\n",
       "    </div>\n",
       "    <table border=\"1\" class=\"dataframe\">\n",
       "  <thead>\n",
       " <tr style=\"text-align: left;\">\n",
       "      <th>Epoch</th>\n",
       "      <th>Training Loss</th>\n",
       "      <th>Validation Loss</th>\n",
       "      <th>Accuracy</th>\n",
       "    </tr>\n",
       "  </thead>\n",
       "  <tbody>\n",
       "    <tr>\n",
       "      <td>1</td>\n",
       "      <td>2.509700</td>\n",
       "      <td>2.488496</td>\n",
       "      <td>0.208874</td>\n",
       "    </tr>\n",
       "    <tr>\n",
       "      <td>2</td>\n",
       "      <td>2.405900</td>\n",
       "      <td>2.412068</td>\n",
       "      <td>0.235389</td>\n",
       "    </tr>\n",
       "    <tr>\n",
       "      <td>3</td>\n",
       "      <td>2.319500</td>\n",
       "      <td>2.380442</td>\n",
       "      <td>0.249647</td>\n",
       "    </tr>\n",
       "    <tr>\n",
       "      <td>4</td>\n",
       "      <td>2.240800</td>\n",
       "      <td>2.360672</td>\n",
       "      <td>0.258964</td>\n",
       "    </tr>\n",
       "    <tr>\n",
       "      <td>5</td>\n",
       "      <td>2.166300</td>\n",
       "      <td>2.355602</td>\n",
       "      <td>0.266327</td>\n",
       "    </tr>\n",
       "    <tr>\n",
       "      <td>6</td>\n",
       "      <td>2.068200</td>\n",
       "      <td>2.350576</td>\n",
       "      <td>0.270481</td>\n",
       "    </tr>\n",
       "    <tr>\n",
       "      <td>7</td>\n",
       "      <td>2.050800</td>\n",
       "      <td>2.361028</td>\n",
       "      <td>0.273029</td>\n",
       "    </tr>\n",
       "    <tr>\n",
       "      <td>8</td>\n",
       "      <td>2.004300</td>\n",
       "      <td>2.365371</td>\n",
       "      <td>0.275663</td>\n",
       "    </tr>\n",
       "    <tr>\n",
       "      <td>9</td>\n",
       "      <td>1.962100</td>\n",
       "      <td>2.372364</td>\n",
       "      <td>0.276298</td>\n",
       "    </tr>\n",
       "  </tbody>\n",
       "</table><p>"
      ],
      "text/plain": [
       "<IPython.core.display.HTML object>"
      ]
     },
     "metadata": {},
     "output_type": "display_data"
    },
    {
     "data": {
      "text/plain": [
       "TrainOutput(global_step=361242, training_loss=2.208303306328221, metrics={'train_runtime': 32631.9566, 'train_samples_per_second': 177.121, 'train_steps_per_second': 11.07, 'total_flos': 2.617574187607848e+17, 'train_loss': 2.208303306328221, 'epoch': 9.0})"
      ]
     },
     "execution_count": 20,
     "metadata": {},
     "output_type": "execute_result"
    }
   ],
   "source": [
    "trainer.train()"
   ]
  },
  {
   "cell_type": "code",
   "execution_count": null,
   "id": "cf2d59ad",
   "metadata": {},
   "outputs": [],
   "source": []
  }
 ],
 "metadata": {
  "kernelspec": {
   "display_name": "Python 3 (ipykernel)",
   "language": "python",
   "name": "python3"
  },
  "language_info": {
   "codemirror_mode": {
    "name": "ipython",
    "version": 3
   },
   "file_extension": ".py",
   "mimetype": "text/x-python",
   "name": "python",
   "nbconvert_exporter": "python",
   "pygments_lexer": "ipython3",
   "version": "3.11.5"
  }
 },
 "nbformat": 4,
 "nbformat_minor": 5
}

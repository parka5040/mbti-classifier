{
 "cells": [
  {
   "cell_type": "code",
   "execution_count": 2,
   "id": "21624c4c",
   "metadata": {},
   "outputs": [
    {
     "name": "stdout",
     "output_type": "stream",
     "text": [
      "Size: 27991302\n"
     ]
    },
    {
     "data": {
      "text/html": [
       "<div>\n",
       "<style scoped>\n",
       "    .dataframe tbody tr th:only-of-type {\n",
       "        vertical-align: middle;\n",
       "    }\n",
       "\n",
       "    .dataframe tbody tr th {\n",
       "        vertical-align: top;\n",
       "    }\n",
       "\n",
       "    .dataframe thead th {\n",
       "        text-align: right;\n",
       "    }\n",
       "</style>\n",
       "<table border=\"1\" class=\"dataframe\">\n",
       "  <thead>\n",
       "    <tr style=\"text-align: right;\">\n",
       "      <th></th>\n",
       "      <th>flair_text</th>\n",
       "      <th>body</th>\n",
       "      <th>subreddit</th>\n",
       "      <th>author</th>\n",
       "    </tr>\n",
       "  </thead>\n",
       "  <tbody>\n",
       "    <tr>\n",
       "      <th>0</th>\n",
       "      <td>INFP: The Dreamer Senpai</td>\n",
       "      <td>Lol that's why I left.</td>\n",
       "      <td>entp</td>\n",
       "      <td>LadyBanterbury</td>\n",
       "    </tr>\n",
       "    <tr>\n",
       "      <th>1</th>\n",
       "      <td>INTP: The Theorist</td>\n",
       "      <td>I was just about to post \"I try telling people...</td>\n",
       "      <td>INTP</td>\n",
       "      <td>Finarin</td>\n",
       "    </tr>\n",
       "    <tr>\n",
       "      <th>2</th>\n",
       "      <td>INFP: The Dreamer</td>\n",
       "      <td>My first thought was Pepsi or something. Proba...</td>\n",
       "      <td>WTF</td>\n",
       "      <td>xanplease</td>\n",
       "    </tr>\n",
       "    <tr>\n",
       "      <th>3</th>\n",
       "      <td>ENTP: Antisocial Extrovert, Rational Eccentric</td>\n",
       "      <td>Not if the formula is something like \"every ti...</td>\n",
       "      <td>youtubehaiku</td>\n",
       "      <td>HeirToGallifrey</td>\n",
       "    </tr>\n",
       "    <tr>\n",
       "      <th>4</th>\n",
       "      <td>INTP/18/m/blankly staring at you</td>\n",
       "      <td>Does this imply I'm a five now?</td>\n",
       "      <td>entp</td>\n",
       "      <td>lightfive</td>\n",
       "    </tr>\n",
       "  </tbody>\n",
       "</table>\n",
       "</div>"
      ],
      "text/plain": [
       "                                       flair_text  \\\n",
       "0                        INFP: The Dreamer Senpai   \n",
       "1                              INTP: The Theorist   \n",
       "2                               INFP: The Dreamer   \n",
       "3  ENTP: Antisocial Extrovert, Rational Eccentric   \n",
       "4                INTP/18/m/blankly staring at you   \n",
       "\n",
       "                                                body     subreddit  \\\n",
       "0                            Lol that's why I left.           entp   \n",
       "1  I was just about to post \"I try telling people...          INTP   \n",
       "2  My first thought was Pepsi or something. Proba...           WTF   \n",
       "3  Not if the formula is something like \"every ti...  youtubehaiku   \n",
       "4                    Does this imply I'm a five now?          entp   \n",
       "\n",
       "            author  \n",
       "0   LadyBanterbury  \n",
       "1          Finarin  \n",
       "2        xanplease  \n",
       "3  HeirToGallifrey  \n",
       "4        lightfive  "
      ]
     },
     "execution_count": 2,
     "metadata": {},
     "output_type": "execute_result"
    }
   ],
   "source": [
    "print(\"Size: %d\" %df.shape[0])\n",
    "df.head()"
   ]
  },
  {
   "cell_type": "markdown",
   "id": "a27ec382",
   "metadata": {},
   "source": [
    "Wow! 27.99 million cases! Let's see how much of that's going to go away. Fix flair text so that we have just the MBTI code. Every single flair_text has been filtered on BigQuery for MBTI so no need to filter out irrelevant posts but will return NaN just in case (legacy from prior attempt at this problem). "
   ]
  },
  {
   "cell_type": "code",
   "execution_count": 3,
   "id": "b60a2e14",
   "metadata": {},
   "outputs": [
    {
     "data": {
      "text/html": [
       "<div>\n",
       "<style scoped>\n",
       "    .dataframe tbody tr th:only-of-type {\n",
       "        vertical-align: middle;\n",
       "    }\n",
       "\n",
       "    .dataframe tbody tr th {\n",
       "        vertical-align: top;\n",
       "    }\n",
       "\n",
       "    .dataframe thead th {\n",
       "        text-align: right;\n",
       "    }\n",
       "</style>\n",
       "<table border=\"1\" class=\"dataframe\">\n",
       "  <thead>\n",
       "    <tr style=\"text-align: right;\">\n",
       "      <th></th>\n",
       "      <th>flair_text</th>\n",
       "      <th>body</th>\n",
       "      <th>subreddit</th>\n",
       "      <th>author</th>\n",
       "    </tr>\n",
       "  </thead>\n",
       "  <tbody>\n",
       "    <tr>\n",
       "      <th>0</th>\n",
       "      <td>INFP</td>\n",
       "      <td>Lol that's why I left.</td>\n",
       "      <td>entp</td>\n",
       "      <td>LadyBanterbury</td>\n",
       "    </tr>\n",
       "    <tr>\n",
       "      <th>1</th>\n",
       "      <td>INTP</td>\n",
       "      <td>I was just about to post \"I try telling people...</td>\n",
       "      <td>INTP</td>\n",
       "      <td>Finarin</td>\n",
       "    </tr>\n",
       "    <tr>\n",
       "      <th>2</th>\n",
       "      <td>INFP</td>\n",
       "      <td>My first thought was Pepsi or something. Proba...</td>\n",
       "      <td>WTF</td>\n",
       "      <td>xanplease</td>\n",
       "    </tr>\n",
       "    <tr>\n",
       "      <th>3</th>\n",
       "      <td>ENTP</td>\n",
       "      <td>Not if the formula is something like \"every ti...</td>\n",
       "      <td>youtubehaiku</td>\n",
       "      <td>HeirToGallifrey</td>\n",
       "    </tr>\n",
       "    <tr>\n",
       "      <th>4</th>\n",
       "      <td>INTP</td>\n",
       "      <td>Does this imply I'm a five now?</td>\n",
       "      <td>entp</td>\n",
       "      <td>lightfive</td>\n",
       "    </tr>\n",
       "    <tr>\n",
       "      <th>5</th>\n",
       "      <td>INTP</td>\n",
       "      <td>Well, I wouldn't know but I think there's a lo...</td>\n",
       "      <td>InternetIsBeautiful</td>\n",
       "      <td>ElementalVoltage</td>\n",
       "    </tr>\n",
       "    <tr>\n",
       "      <th>6</th>\n",
       "      <td>INFJ</td>\n",
       "      <td>sine na, support the directors, actors and oth...</td>\n",
       "      <td>Philippines</td>\n",
       "      <td>BabyFlo70</td>\n",
       "    </tr>\n",
       "    <tr>\n",
       "      <th>7</th>\n",
       "      <td>INTP</td>\n",
       "      <td>I use just enough vacation days so that I don'...</td>\n",
       "      <td>tumblr</td>\n",
       "      <td>RockinSocksReborn</td>\n",
       "    </tr>\n",
       "    <tr>\n",
       "      <th>8</th>\n",
       "      <td>INTP</td>\n",
       "      <td>Can be ur angle... or you're devil ;)</td>\n",
       "      <td>woof_irl</td>\n",
       "      <td>crowbird_</td>\n",
       "    </tr>\n",
       "    <tr>\n",
       "      <th>9</th>\n",
       "      <td>INTP</td>\n",
       "      <td>I mean we don't how much influence Crow has on...</td>\n",
       "      <td>RWBY</td>\n",
       "      <td>RockinSocksReborn</td>\n",
       "    </tr>\n",
       "  </tbody>\n",
       "</table>\n",
       "</div>"
      ],
      "text/plain": [
       "  flair_text                                               body  \\\n",
       "0       INFP                            Lol that's why I left.    \n",
       "1       INTP  I was just about to post \"I try telling people...   \n",
       "2       INFP  My first thought was Pepsi or something. Proba...   \n",
       "3       ENTP  Not if the formula is something like \"every ti...   \n",
       "4       INTP                    Does this imply I'm a five now?   \n",
       "5       INTP  Well, I wouldn't know but I think there's a lo...   \n",
       "6       INFJ  sine na, support the directors, actors and oth...   \n",
       "7       INTP  I use just enough vacation days so that I don'...   \n",
       "8       INTP             Can be ur angle... or you're devil ;)    \n",
       "9       INTP  I mean we don't how much influence Crow has on...   \n",
       "\n",
       "             subreddit             author  \n",
       "0                 entp     LadyBanterbury  \n",
       "1                 INTP            Finarin  \n",
       "2                  WTF          xanplease  \n",
       "3         youtubehaiku    HeirToGallifrey  \n",
       "4                 entp          lightfive  \n",
       "5  InternetIsBeautiful   ElementalVoltage  \n",
       "6          Philippines          BabyFlo70  \n",
       "7               tumblr  RockinSocksReborn  \n",
       "8             woof_irl          crowbird_  \n",
       "9                 RWBY  RockinSocksReborn  "
      ]
     },
     "execution_count": 3,
     "metadata": {},
     "output_type": "execute_result"
    }
   ],
   "source": [
    "mbtiValues = [\"ESTJ\", \"ESTP\", \"ESFP\", \"ESFJ\", \"ISTJ\", \"ISTP\", \"ISFP\", \"ISFJ\", \"INTJ\", \"INTP\", \"INFP\",\n",
    "              \"INFJ\", \"ENTJ\", \"ENTP\", \"ENFP\", \"ENFJ\"]\n",
    "\n",
    "def filterMBTIandUpper(text, mbtiList):\n",
    "    for mbti in mbtiList:\n",
    "        if mbti in text.upper():\n",
    "            return mbti\n",
    "    \n",
    "    return \"NaN\"\n",
    "\n",
    "df[\"flair_text\"] = df[\"flair_text\"].apply(lambda x: filterMBTIandUpper(x, mbtiValues))\n",
    "df.head(10)"
   ]
  },
  {
   "cell_type": "markdown",
   "id": "cc7e0ca4",
   "metadata": {},
   "source": [
    "Let's quantify the most/least represented subreddits (Top/Bottom 20 for each) and then drop both the author and subreddits afterwards since they're no longer relevant beyond getting a feel for where this data is being pulled from. "
   ]
  },
  {
   "cell_type": "code",
   "execution_count": 4,
   "id": "f942d434",
   "metadata": {},
   "outputs": [
    {
     "name": "stdout",
     "output_type": "stream",
     "text": [
      "Most Represented Subreddits:\n",
      "subreddit\n",
      "AskReddit          2380826\n",
      "entp               1037801\n",
      "mbti                789610\n",
      "INTP                643073\n",
      "infj                511681\n",
      "infp                390621\n",
      "politics            304462\n",
      "intj                280954\n",
      "funny               273608\n",
      "pics                240884\n",
      "AskWomen            236714\n",
      "teenagers           232888\n",
      "todayilearned       200796\n",
      "leagueoflegends     189185\n",
      "worldnews           176277\n",
      "france              169052\n",
      "gaming              162965\n",
      "AdviceAnimals       159194\n",
      "anime               158722\n",
      "Christianity        158648\n",
      "Name: count, dtype: int64\n",
      "Least Represented Subreddits:\n",
      "subreddit\n",
      "DissonautUniverse    1\n",
      "amino                1\n",
      "legostarwarsmemes    1\n",
      "catsridingroombas    1\n",
      "BlacksOnAsians       1\n",
      "vagabonding          1\n",
      "CosaNostra           1\n",
      "treees               1\n",
      "IRCrpg               1\n",
      "PussySlip            1\n",
      "healthcareIT         1\n",
      "ThePoetryofCinema    1\n",
      "Alt_Hapa             1\n",
      "zenjerk              1\n",
      "CircleOfLove         1\n",
      "The_Italia           1\n",
      "CODZombiesMemes      1\n",
      "upugetsound          1\n",
      "damonalbarn          1\n",
      "Pokemon_GO_News      1\n",
      "Name: count, dtype: int64\n"
     ]
    },
    {
     "data": {
      "text/html": [
       "<div>\n",
       "<style scoped>\n",
       "    .dataframe tbody tr th:only-of-type {\n",
       "        vertical-align: middle;\n",
       "    }\n",
       "\n",
       "    .dataframe tbody tr th {\n",
       "        vertical-align: top;\n",
       "    }\n",
       "\n",
       "    .dataframe thead th {\n",
       "        text-align: right;\n",
       "    }\n",
       "</style>\n",
       "<table border=\"1\" class=\"dataframe\">\n",
       "  <thead>\n",
       "    <tr style=\"text-align: right;\">\n",
       "      <th></th>\n",
       "      <th>flair_text</th>\n",
       "      <th>body</th>\n",
       "    </tr>\n",
       "  </thead>\n",
       "  <tbody>\n",
       "    <tr>\n",
       "      <th>0</th>\n",
       "      <td>INFP</td>\n",
       "      <td>Lol that's why I left.</td>\n",
       "    </tr>\n",
       "    <tr>\n",
       "      <th>1</th>\n",
       "      <td>INTP</td>\n",
       "      <td>I was just about to post \"I try telling people...</td>\n",
       "    </tr>\n",
       "    <tr>\n",
       "      <th>2</th>\n",
       "      <td>INFP</td>\n",
       "      <td>My first thought was Pepsi or something. Proba...</td>\n",
       "    </tr>\n",
       "    <tr>\n",
       "      <th>3</th>\n",
       "      <td>ENTP</td>\n",
       "      <td>Not if the formula is something like \"every ti...</td>\n",
       "    </tr>\n",
       "    <tr>\n",
       "      <th>4</th>\n",
       "      <td>INTP</td>\n",
       "      <td>Does this imply I'm a five now?</td>\n",
       "    </tr>\n",
       "    <tr>\n",
       "      <th>5</th>\n",
       "      <td>INTP</td>\n",
       "      <td>Well, I wouldn't know but I think there's a lo...</td>\n",
       "    </tr>\n",
       "    <tr>\n",
       "      <th>6</th>\n",
       "      <td>INFJ</td>\n",
       "      <td>sine na, support the directors, actors and oth...</td>\n",
       "    </tr>\n",
       "    <tr>\n",
       "      <th>7</th>\n",
       "      <td>INTP</td>\n",
       "      <td>I use just enough vacation days so that I don'...</td>\n",
       "    </tr>\n",
       "    <tr>\n",
       "      <th>8</th>\n",
       "      <td>INTP</td>\n",
       "      <td>Can be ur angle... or you're devil ;)</td>\n",
       "    </tr>\n",
       "    <tr>\n",
       "      <th>9</th>\n",
       "      <td>INTP</td>\n",
       "      <td>I mean we don't how much influence Crow has on...</td>\n",
       "    </tr>\n",
       "  </tbody>\n",
       "</table>\n",
       "</div>"
      ],
      "text/plain": [
       "  flair_text                                               body\n",
       "0       INFP                            Lol that's why I left. \n",
       "1       INTP  I was just about to post \"I try telling people...\n",
       "2       INFP  My first thought was Pepsi or something. Proba...\n",
       "3       ENTP  Not if the formula is something like \"every ti...\n",
       "4       INTP                    Does this imply I'm a five now?\n",
       "5       INTP  Well, I wouldn't know but I think there's a lo...\n",
       "6       INFJ  sine na, support the directors, actors and oth...\n",
       "7       INTP  I use just enough vacation days so that I don'...\n",
       "8       INTP             Can be ur angle... or you're devil ;) \n",
       "9       INTP  I mean we don't how much influence Crow has on..."
      ]
     },
     "execution_count": 4,
     "metadata": {},
     "output_type": "execute_result"
    }
   ],
   "source": [
    "subreddit = df[\"subreddit\"].value_counts()\n",
    "\n",
    "print(\"Most Represented Subreddits:\")\n",
    "print(subreddit[0:20])\n",
    "\n",
    "print(\"Least Represented Subreddits:\")\n",
    "print(subreddit[-20:])\n",
    "\n",
    "df = df.drop(columns=[\"subreddit\", \"author\"])\n",
    "df.head(10)"
   ]
  },
  {
   "cell_type": "markdown",
   "id": "1ae3ca5b",
   "metadata": {},
   "source": [
    "Now let's see what's going on with class imbalance. I know from simply perusing through some of the MBTI subreddits that the INXX are the most represented on Reddit. Let's see how bad it is. "
   ]
  },
  {
   "cell_type": "code",
   "execution_count": 5,
   "id": "400a8172",
   "metadata": {},
   "outputs": [
    {
     "data": {
      "image/png": "[encoded data removed]",
      "text/plain": [
       "<Figure size 640x480 with 1 Axes>"
      ]
     },
     "metadata": {},
     "output_type": "display_data"
    }
   ],
   "source": [
    "uniquesByMBTI = df.groupby(\"flair_text\").nunique()\n",
    "\n",
    "uniquesByMBTI.index.name = 'MBTI'\n",
    "uniquesByMBTI.reset_index(inplace=True)\n",
    "ax = sns.barplot(x=\"MBTI\", y=\"body\", data=uniquesByMBTI)\n",
    "ax.bar_label(ax.containers[0], fontsize=7)\n",
    "plt.show()"
   ]
  },
  {
   "cell_type": "markdown",
   "id": "3c08b306",
   "metadata": {},
   "source": [
    "Okay, wow. That's a ridiculous class imbalance. ESFP only has 43,965 examples while the INXX categories are averaging about ~2.8 million. There's no upsampling for this. However, downsamples across the board should make this fine. Before we do this, however, let's make sure we aren't accidentally downsampling things that would've been filtered out otherwise. We can do this by cleaning the whole set first. "
   ]
  },
  {
   "cell_type": "code",
   "execution_count": 6,
   "id": "e29797d3",
   "metadata": {},
   "outputs": [],
   "source": [
    "def firstPassClean(x):\n",
    "    # Cleans: URLs, non-ASCII, HTML\n",
    "    x = str(x)\n",
    "    x = re.sub(r'https*\\S+', ' ', x)\n",
    "    x = re.sub(r'http*\\S+', ' ', x)\n",
    "    x = x.encode('ascii', 'ignore').decode()\n",
    "    x = html.unescape(x)\n",
    "    x = re.sub(\"\\n\", ' ', x)\n",
    "    x = re.sub(r\"[\\[\\]]\", '', x)\n",
    "    return x"
   ]
  },
  {
   "cell_type": "code",
   "execution_count": 7,
   "id": "75f5ed66",
   "metadata": {},
   "outputs": [
    {
     "data": {
      "application/vnd.jupyter.widget-view+json": {
       "model_id": "4ba6b9e9c3a7408a938dccb9704c76e2",
       "version_major": 2,
       "version_minor": 0
      },
      "text/plain": [
       "Pandas Apply:   0%|          | 0/27991302 [00:00<?, ?it/s]"
      ]
     },
     "metadata": {},
     "output_type": "display_data"
    }
   ],
   "source": [
    "import swifter\n",
    "\n",
    "df[\"cleaned\"] = df.body.swifter.apply(firstPassClean)\n",
    "df = df[~df[\"cleaned\"].eq('')].dropna()"
   ]
  },
  {
   "cell_type": "code",
   "execution_count": 8,
   "id": "301c21ff",
   "metadata": {},
   "outputs": [],
   "source": [
    "import fasttext\n",
    "\n",
    "model = fasttext.load_model(\"model.bin\")\n",
    "\n",
    "def removeNonEnglish(text, model):\n",
    "    prediction = model.predict(text)\n",
    "    if prediction[0][0] == \"__label__eng_Latn\":\n",
    "        return text\n",
    "    else:\n",
    "        return \"NaN\""
   ]
  },
  {
   "cell_type": "code",
   "execution_count": 9,
   "id": "3fa25aa4",
   "metadata": {},
   "outputs": [
    {
     "data": {
      "application/vnd.jupyter.widget-view+json": {
       "model_id": "53dfc0142dbd43ef991af2f7165da129",
       "version_major": 2,
       "version_minor": 0
      },
      "text/plain": [
       "Pandas Apply:   0%|          | 0/27978554 [00:00<?, ?it/s]"
      ]
     },
     "metadata": {},
     "output_type": "display_data"
    }
   ],
   "source": [
    "df[\"cleaned\"] = df[\"cleaned\"].swifter.apply(lambda x: removeNonEnglish(x, model))"
   ]
  },
  {
   "cell_type": "markdown",
   "id": "b537c66a",
   "metadata": {},
   "source": [
    "Now let's get rid of all the text that might've been filtered out by this. "
   ]
  },
  {
   "cell_type": "code",
   "execution_count": 10,
   "id": "f176f58d",
   "metadata": {},
   "outputs": [
    {
     "name": "stdout",
     "output_type": "stream",
     "text": [
      "Size: 26117823\n"
     ]
    }
   ],
   "source": [
    "df = df[df[\"cleaned\"].str.contains(\"NaN\") == False]\n",
    "print(\"Size: %d\" %df.shape[0])"
   ]
  },
  {
   "cell_type": "markdown",
   "id": "56736a68",
   "metadata": {},
   "source": [
    "Surprisingly not many samples have been removed. Let's save this file as csv and then move onto some more advanced filtering. "
   ]
  },
  {
   "cell_type": "code",
   "execution_count": 11,
   "id": "339f0b8d",
   "metadata": {},
   "outputs": [],
   "source": [
    "df.to_csv(\"cleaned_dataframe.csv\")"
   ]
  },
  {
   "cell_type": "code",
   "execution_count": 16,
   "id": "c4c5746c",
   "metadata": {},
   "outputs": [],
   "source": [
    "# Artifact from the regex expression used to remove links. So the only thing to check for is \"(\" unpaired with its \n",
    "# corresponding \")\". If there is an unbalanced parenthesis, it returns True. else, returns False. \n",
    "def checkUnbalancedParens(x):\n",
    "    check = x.find(\"(\")\n",
    "    if check != -1:\n",
    "        if x.find(\")\") != -1:\n",
    "            return False\n",
    "        elif x.find(\")\") == -1 and (x[check-1] != \":\" and x[check-1] != \"'\"):\n",
    "            return True\n",
    "    else:\n",
    "        return False\n",
    "\n",
    "def SecondPassClean(x):\n",
    "    x = x.strip()\n",
    "    if checkUnbalancedParens(x):\n",
    "        x = x.replace(\"(\", \"\")\n",
    "    x = re.sub(r'\\s{2,}', ' ', x) # Remove extra spaces\n",
    "    x = re.sub(r'\\s[^\\w\\s]\\s', ' ', x) # Remove extra white space between words\n",
    "    if len(x) <= 6: # It's too short to qualify\n",
    "        return ''\n",
    "    \n",
    "    return x"
   ]
  },
  {
   "cell_type": "code",
   "execution_count": 18,
   "id": "5314782a",
   "metadata": {},
   "outputs": [
    {
     "data": {
      "application/vnd.jupyter.widget-view+json": {
       "model_id": "4f868f557ba24f44b4a31e48330f2390",
       "version_major": 2,
       "version_minor": 0
      },
      "text/plain": [
       "Pandas Apply:   0%|          | 0/26117823 [00:00<?, ?it/s]"
      ]
     },
     "metadata": {},
     "output_type": "display_data"
    }
   ],
   "source": [
    "df[\"cleaned\"] = df.cleaned.swifter.apply(SecondPassClean)"
   ]
  },
  {
   "cell_type": "code",
   "execution_count": 20,
   "id": "afbb4182",
   "metadata": {},
   "outputs": [
    {
     "name": "stdout",
     "output_type": "stream",
     "text": [
      "Size: 25790335\n"
     ]
    }
   ],
   "source": [
    "df = df[~df[\"cleaned\"].eq('')].dropna()\n",
    "print(\"Size: %d\" %df.shape[0])"
   ]
  },
  {
   "cell_type": "markdown",
   "id": "72a5b87f",
   "metadata": {},
   "source": [
    "Surprisingly not many have been filtered out. Let's save this and then downsample. As we know, the ESFP and ESFJ categories are the least represented. Need to downsample the rest of the categories to about ~50,000 samples per category. But to ensure that there's a decently similar set of distributions, let's add a column for string length."
   ]
  },
  {
   "cell_type": "code",
   "execution_count": 21,
   "id": "51e7c449",
   "metadata": {},
   "outputs": [
    {
     "data": {
      "application/vnd.jupyter.widget-view+json": {
       "model_id": "74b7e209b8894c6c985fa9c506493dc6",
       "version_major": 2,
       "version_minor": 0
      },
      "text/plain": [
       "Pandas Apply:   0%|          | 0/25790335 [00:00<?, ?it/s]"
      ]
     },
     "metadata": {},
     "output_type": "display_data"
    }
   ],
   "source": [
    "df[\"body length\"] = df.cleaned.swifter.apply(len)"
   ]
  },
  {
   "cell_type": "code",
   "execution_count": 28,
   "id": "d0abccd6",
   "metadata": {
    "scrolled": true
   },
   "outputs": [
    {
     "data": {
      "image/png": "[encoded data removed]",
      "text/plain": [
       "<Figure size 640x480 with 1 Axes>"
      ]
     },
     "metadata": {},
     "output_type": "display_data"
    }
   ],
   "source": [
    "avgLen = df.groupby('flair_text')[\"body length\"].mean()\n",
    "ax = avgLen.plot.bar()\n",
    "ax.bar_label(ax.containers[0], fontsize=6)\n",
    "plt.show() "
   ]
  },
  {
   "cell_type": "markdown",
   "id": "e8047598",
   "metadata": {},
   "source": [
    "Surprisingly balanced on the character length! Now let's check the variance. "
   ]
  },
  {
   "cell_type": "code",
   "execution_count": 30,
   "id": "3e7cfc8c",
   "metadata": {},
   "outputs": [
    {
     "data": {
      "image/png": "[encoded data removed]",
      "text/plain": [
       "<Figure size 640x480 with 1 Axes>"
      ]
     },
     "metadata": {},
     "output_type": "display_data"
    }
   ],
   "source": [
    "varLen = df.groupby('flair_text')[\"body length\"].var()\n",
    "ax = varLen.plot.bar()\n",
    "ax.bar_label(ax.containers[0], fontsize=6)\n",
    "plt.show() "
   ]
  },
  {
   "cell_type": "markdown",
   "id": "4e134d6d",
   "metadata": {},
   "source": [
    "Variance is a little more skewed, especially for ISTP. However, this could provide some insight. Let's do our downsampling now."
   ]
  },
  {
   "cell_type": "code",
   "execution_count": 33,
   "id": "fe40561c",
   "metadata": {},
   "outputs": [
    {
     "data": {
      "image/png": "[encoded data removed]",
      "text/plain": [
       "<Figure size 640x480 with 1 Axes>"
      ]
     },
     "metadata": {},
     "output_type": "display_data"
    }
   ],
   "source": [
    "mbtiSizes = df[\"flair_text\"].value_counts()\n",
    "ax = mbtiSizes.plot.bar()\n",
    "ax.bar_label(ax.containers[0], fontsize=6)\n",
    "plt.show() "
   ]
  },
  {
   "cell_type": "code",
   "execution_count": 36,
   "id": "a6071c63",
   "metadata": {},
   "outputs": [],
   "source": [
    "from sklearn.utils import resample\n",
    "df = df.drop(columns=[\"body length\"])\n",
    "finalArr = []\n",
    "finalSizePerCat = 70000\n",
    "for mbti in mbtiValues:\n",
    "    if mbtiSizes[mbti] <= finalSizePerCat:\n",
    "        finalArr.append(df[df[\"flair_text\"] == mbti])\n",
    "    else:\n",
    "        finalArr.append(resample(df[df[\"flair_text\"] == mbti], replace=False, n_samples=finalSizePerCat))\n",
    "\n",
    "finalDf = pd.concat(finalArr)"
   ]
  },
  {
   "cell_type": "code",
   "execution_count": 37,
   "id": "8145fb73",
   "metadata": {},
   "outputs": [
    {
     "data": {
      "image/png": "[encoded data removed]",
      "text/plain": [
       "<Figure size 640x480 with 1 Axes>"
      ]
     },
     "metadata": {},
     "output_type": "display_data"
    }
   ],
   "source": [
    "mbtiSizesf = finalDf[\"flair_text\"].value_counts()\n",
    "ax = mbtiSizesf.plot.bar()\n",
    "ax.bar_label(ax.containers[0], fontsize=6)\n",
    "plt.show() "
   ]
  },
  {
   "cell_type": "code",
   "execution_count": 40,
   "id": "b8bb93fe",
   "metadata": {},
   "outputs": [],
   "source": [
    "# finalDf = finalDf.drop(columns=[\"body\", \"body length\"])\n",
    "finalDf = finalDf.drop(columns=[\"body\"])\n",
    "finalDf.to_csv(\"downsampledTrainSet.csv\", index=False)\n",
    "df.to_csv(\"rawTrainSet.csv\", index=False)"
   ]
  },
  {
   "cell_type": "code",
   "execution_count": null,
   "id": "b5f0ca34",
   "metadata": {},
   "outputs": [],
   "source": []
  }
 ],
 "metadata": {
  "kernelspec": {
   "display_name": "Python 3 (ipykernel)",
   "language": "python",
   "name": "python3"
  },
  "language_info": {
   "codemirror_mode": {
    "name": "ipython",
    "version": 3
   },
   "file_extension": ".py",
   "mimetype": "text/x-python",
   "name": "python",
   "nbconvert_exporter": "python",
   "pygments_lexer": "ipython3",
   "version": "3.11.5"
  }
 },
 "nbformat": 4,
 "nbformat_minor": 5
}
